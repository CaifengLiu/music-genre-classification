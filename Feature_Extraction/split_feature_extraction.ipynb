{
 "cells": [
  {
   "cell_type": "code",
   "execution_count": 8,
   "metadata": {
    "collapsed": true
   },
   "outputs": [],
   "source": [
    "import numpy as np\n",
    "import os"
   ]
  },
  {
   "cell_type": "code",
   "execution_count": 3,
   "metadata": {
    "collapsed": true
   },
   "outputs": [],
   "source": [
    "def split_feature(X, split_window_len, split_window_shift):\n",
    "    X_split = []\n",
    "    for feature in X:\n",
    "        feature_split = []\n",
    "        for i in range(0, feature.shape[0] - split_window_len, split_window_shift):\n",
    "            tmp_window_feature = feature[i:i+split_window_len, :]\n",
    "            feature_split.append(tmp_window_feature)\n",
    "        X_split.append(feature_split)\n",
    "    return np.array(X_split, dtype=np.float32)"
   ]
  },
  {
   "cell_type": "code",
   "execution_count": 12,
   "metadata": {
    "collapsed": true
   },
   "outputs": [],
   "source": [
    "def load_split_feature(dataset_feature_rootpath):\n",
    "    GENRES = sorted(os.listdir(dataset_feature_rootpath))\n",
    "    X_split = []\n",
    "    count = 0\n",
    "    for genre in GENRES:\n",
    "        genre_path = os.path.join(dataset_feature_rootpath, genre)\n",
    "        for file in os.listdir(genre_path):\n",
    "            split_feature = np.load(os.path.join(genre_path, file))\n",
    "            split_feature = np.reshape(split_feature, newshape=(split_feature.shape[0], \n",
    "                                                                split_feature.shape[2], \n",
    "                                                                split_feature.shape[3]))\n",
    "            split_feature = np.transpose(split_feature, axes=(0, 2, 1))\n",
    "            X_split.append(split_feature)\n",
    "    return np.array(X_split, dtype=np.float32)"
   ]
  },
  {
   "cell_type": "code",
   "execution_count": 4,
   "metadata": {
    "collapsed": true
   },
   "outputs": [],
   "source": [
    "#full time step is 647, one music time duration is 29.2s\n",
    "#split window is 128, time duration is about 3s\n",
    "X_stft_1024 = np.load('GTZAN/without_split_features/stft_feature_1024.npy')\n",
    "X_melspec_1024 = np.load('GTZAN/without_split_features/melspec_feature_1024.npy')\n",
    "X_mfcc_1024 = np.load('GTZAN/without_split_features/mfcc_feature_1024.npy')\n",
    "\n",
    "X_stft_split_1024_3s = split_feature(X_stft_1024, 128, 64)\n",
    "X_melspec_split_1024_3s = split_feature(X_melspec_1024, 128, 64)\n",
    "X_mfcc_split_1024_3s = split_feature(X_mfcc_1024, 128, 64)\n",
    "\n",
    "np.save('GTZAN/split_features/stft_featur_split_1024_3s.npy', X_stft_split_1024_3s)\n",
    "np.save('GTZAN/split_features/melspec_featur_split_1024_3s.npy', X_melspec_split_1024_3s)\n",
    "np.save('GTZAN/split_features/mfcc_featur_split_1024_3s.npy', X_mfcc_split_1024_3s)"
   ]
  },
  {
   "cell_type": "code",
   "execution_count": 4,
   "metadata": {
    "collapsed": true
   },
   "outputs": [],
   "source": [
    "X_stft_2048 = np.load('GTZAN/without_split_features/stft_feature_2048.npy')\n",
    "X_melspec_2048 = np.load('GTZAN/without_split_features/melspec_feature_2048.npy')\n",
    "X_mfcc_2048 = np.load('GTZAN/without_split_features/mfcc_feature_2048.npy')\n",
    "\n",
    "X_stft_split_2048_3s = split_feature(X_stft_2048, 64, 32)\n",
    "X_melspec_split_2048_3s = split_feature(X_melspec_2048, 64, 32)\n",
    "X_mfcc_split_2048_3s = split_feature(X_mfcc_2048, 64, 32)\n",
    "\n",
    "np.save('GTZAN/split_features/stft_featur_split_2048_3s.npy', X_stft_split_2048_3s)\n",
    "np.save('GTZAN/split_features/melspec_featur_split_2048_3s.npy', X_melspec_split_2048_3s)\n",
    "np.save('GTZAN/split_features/mfcc_featur_split_2048_3s.npy', X_mfcc_split_2048_3s)"
   ]
  },
  {
   "cell_type": "code",
   "execution_count": 5,
   "metadata": {},
   "outputs": [
    {
     "name": "stdout",
     "output_type": "stream",
     "text": [
      "(1000, 19, 64, 1025)\n"
     ]
    }
   ],
   "source": [
    "print(X_stft_split_2048_3s.shape)"
   ]
  },
  {
   "cell_type": "code",
   "execution_count": 13,
   "metadata": {},
   "outputs": [],
   "source": [
    "X_split_ls = load_split_feature('/share/music-datasets/GTZAN/stft-seg-3s-1024/')"
   ]
  },
  {
   "cell_type": "code",
   "execution_count": 16,
   "metadata": {},
   "outputs": [],
   "source": [
    "np.save('GTZAN/split_features/stft_featur_split_1024_3s_ls.npy', X_split_ls)"
   ]
  },
  {
   "cell_type": "code",
   "execution_count": null,
   "metadata": {
    "collapsed": true
   },
   "outputs": [],
   "source": []
  }
 ],
 "metadata": {
  "kernelspec": {
   "display_name": "Python 3",
   "language": "python",
   "name": "python3"
  },
  "language_info": {
   "codemirror_mode": {
    "name": "ipython",
    "version": 3
   },
   "file_extension": ".py",
   "mimetype": "text/x-python",
   "name": "python",
   "nbconvert_exporter": "python",
   "pygments_lexer": "ipython3",
   "version": "3.5.1+"
  }
 },
 "nbformat": 4,
 "nbformat_minor": 2
}
